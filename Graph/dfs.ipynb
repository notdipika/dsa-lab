{
 "cells": [
  {
   "cell_type": "code",
   "execution_count": 1,
   "id": "2b012a7e",
   "metadata": {},
   "outputs": [],
   "source": [
    "graph = {\n",
    "    'A': ['B', 'C'],\n",
    "    'B': ['A', 'C'],\n",
    "    'C': ['A', 'B', 'D'],\n",
    "    'D': ['C', 'E', 'F'],\n",
    "    'E': ['D', 'F'],\n",
    "    'F': ['D', 'E']\n",
    "}\n"
   ]
  },
  {
   "cell_type": "code",
   "execution_count": 2,
   "id": "d6a43623",
   "metadata": {},
   "outputs": [
    {
     "name": "stdout",
     "output_type": "stream",
     "text": [
      "The order of traversal is:\n",
      "A -> C -> D -> F -> E -> B\n"
     ]
    }
   ],
   "source": [
    "def DFS(graph, start):\n",
    "    visited = []\n",
    "    stack = []\n",
    "    stack.append(start)\n",
    "    while not len(stack) == 0:\n",
    "        temp = stack.pop()\n",
    "        visited.append(temp)\n",
    "        for node in graph[temp]:\n",
    "            if (not node in stack) and (not node in visited):\n",
    "                stack.append(node)\n",
    "            \n",
    "    print(\"The order of traversal is:\")\n",
    "    traversal_order = start\n",
    "    for item in visited[1:]:\n",
    "        traversal_order += f\" -> {item}\"\n",
    "    print(traversal_order)\n",
    "\n",
    "DFS(graph, 'A')"
   ]
  },
  {
   "cell_type": "code",
   "execution_count": null,
   "id": "6ac83b7d",
   "metadata": {},
   "outputs": [],
   "source": []
  }
 ],
 "metadata": {
  "kernelspec": {
   "display_name": "myenv",
   "language": "python",
   "name": "python3"
  },
  "language_info": {
   "codemirror_mode": {
    "name": "ipython",
    "version": 3
   },
   "file_extension": ".py",
   "mimetype": "text/x-python",
   "name": "python",
   "nbconvert_exporter": "python",
   "pygments_lexer": "ipython3",
   "version": "3.13.7"
  }
 },
 "nbformat": 4,
 "nbformat_minor": 5
}
