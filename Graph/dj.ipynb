{
 "cells": [
  {
   "cell_type": "code",
   "execution_count": null,
   "id": "01f4321c",
   "metadata": {
    "vscode": {
     "languageId": "plaintext"
    }
   },
   "outputs": [],
   "source": [
    "G = {\n",
    "    's':{'t':10, 'y':5},\n",
    "    't':{'y':2, 'x':1},\n",
    "    'x':{'z':4},\n",
    "    'y':{'x':9, 't':3, 'z':2},\n",
    "    'z':{'x':6, 's':7}\n",
    "}"
   ]
  },
  {
   "cell_type": "code",
   "execution_count": null,
   "id": "a28bf238",
   "metadata": {
    "vscode": {
     "languageId": "plaintext"
    }
   },
   "outputs": [],
   "source": [
    "import math\n",
    "\n",
    "def INITIALIZE_FIRST_SOURCE(G,s):\n",
    "    cost = dict()\n",
    "    prev = dict()\n",
    "    for vertex in G.keys():\n",
    "        cost[vertex] = math.inf \n",
    "        prev[vertex] = \" \"\n",
    "    cost[s] = 0 \n",
    "    return cost, prev"
   ]
  },
  {
   "cell_type": "code",
   "execution_count": null,
   "id": "5767747c",
   "metadata": {
    "vscode": {
     "languageId": "plaintext"
    }
   },
   "outputs": [],
   "source": [
    "def RELAX(G, u, v, cost, prev):\n",
    "    if cost[v] > cost[u] + G[u][v]:\n",
    "        cost[v] = cost[u] + G[u][v]\n",
    "        prev[v] = u\n",
    "    return cost, prev"
   ]
  },
  {
   "cell_type": "code",
   "execution_count": null,
   "id": "fad0eb4b",
   "metadata": {
    "vscode": {
     "languageId": "plaintext"
    }
   },
   "outputs": [],
   "source": [
    "from queue import PriorityQueue\n",
    "def DJ(G,s):\n",
    "    cost, prev = INITIALIZE_FIRST_SOURCE(G, s)\n",
    "    PQ = PriorityQueue()\n",
    "    for vertex in G.keys():\n",
    "        PQ.put((cost[vertex], vertex))\n",
    "    visited = []\n",
    "    while (len(visited) != len(G.keys())):\n",
    "        _, currentVertex = PQ.get()\n",
    "        visited.append(currentVertex)   \n",
    "        for chimeki in G[currentVertex]:\n",
    "            if chimeki not in visited:\n",
    "                cost, prev = RELAX(G, currentVertex, chimeki, cost, prev)\n",
    "                PQ.put((cost[chimeki], chimeki))\n",
    "    return cost, prev"
   ]
  },
  {
   "cell_type": "code",
   "execution_count": null,
   "id": "d30f09d5",
   "metadata": {
    "vscode": {
     "languageId": "plaintext"
    }
   },
   "outputs": [],
   "source": [
    "s = 's'\n",
    "cost, prev = DJ(G,s)\n",
    "print(cost)\n",
    "print(prev)"
   ]
  },
  {
   "cell_type": "code",
   "execution_count": null,
   "id": "335566c8",
   "metadata": {
    "vscode": {
     "languageId": "plaintext"
    }
   },
   "outputs": [],
   "source": [
    "def RECONSTRUCT_PATH(vertex, path)\n",
    "    path = vertex\n",
    "    while G[vertex] != \" \":\n",
    "        path = prev[vertex] + '->' + path\n",
    "        vertex = prev [vertex]\n",
    "    return path\n",
    "\n",
    "s = 's'\n",
    "cost, prev = DJ(G,s)\n",
    "for vertex in G.keys():\n",
    "    print(f'Shortest path from {s} to {vertex} is {RECONSTRUCT_PATH(vertex, prev)})\n",
    "    print(f'Cost is {cost[vertex]}')\n",
    "\n"
   ]
  },
  {
   "cell_type": "code",
   "execution_count": null,
   "id": "24571068",
   "metadata": {
    "vscode": {
     "languageId": "plaintext"
    }
   },
   "outputs": [],
   "source": []
  }
 ],
 "metadata": {
  "language_info": {
   "name": "python"
  }
 },
 "nbformat": 4,
 "nbformat_minor": 5
}
