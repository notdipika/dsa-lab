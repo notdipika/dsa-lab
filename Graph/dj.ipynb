{
 "cells": [
  {
   "cell_type": "code",
   "execution_count": 2,
   "id": "01f4321c",
   "metadata": {},
   "outputs": [],
   "source": [
    "G = {\n",
    "    's':{'t':10, 'y':5},\n",
    "    't':{'y':2, 'x':1},\n",
    "    'x':{'z':4},\n",
    "    'y':{'x':9, 't':3, 'z':2},\n",
    "    'z':{'x':6, 's':7}\n",
    "}"
   ]
  },
  {
   "cell_type": "code",
   "execution_count": 3,
   "id": "a28bf238",
   "metadata": {},
   "outputs": [],
   "source": [
    "import math\n",
    "\n",
    "def INITIALIZE_FIRST_SOURCE(G,s):\n",
    "    cost = dict()\n",
    "    prev = dict()\n",
    "    for vertex in G.keys():\n",
    "        cost[vertex] = math.inf \n",
    "        prev[vertex] = \" \"\n",
    "    cost[s] = 0 \n",
    "    return cost, prev"
   ]
  },
  {
   "cell_type": "code",
   "execution_count": 4,
   "id": "5767747c",
   "metadata": {},
   "outputs": [],
   "source": [
    "def RELAX(G, u, v, cost, prev):\n",
    "    if cost[v] > cost[u] + G[u][v]:\n",
    "        cost[v] = cost[u] + G[u][v]\n",
    "        prev[v] = u\n",
    "    return cost, prev"
   ]
  },
  {
   "cell_type": "code",
   "execution_count": 5,
   "id": "fad0eb4b",
   "metadata": {},
   "outputs": [],
   "source": [
    "from queue import PriorityQueue\n",
    "def DJ(G,s):\n",
    "    cost, prev = INITIALIZE_FIRST_SOURCE(G, s)\n",
    "    PQ = PriorityQueue()\n",
    "    for vertex in G.keys():\n",
    "        PQ.put((cost[vertex], vertex))\n",
    "    visited = []\n",
    "    while (len(visited) != len(G.keys())):\n",
    "        _, currentVertex = PQ.get()\n",
    "        visited.append(currentVertex)   \n",
    "        for chimeki in G[currentVertex]:\n",
    "            if chimeki not in visited:\n",
    "                cost, prev = RELAX(G, currentVertex, chimeki, cost, prev)\n",
    "                PQ.put((cost[chimeki], chimeki))\n",
    "    return cost, prev"
   ]
  },
  {
   "cell_type": "code",
   "execution_count": 6,
   "id": "d30f09d5",
   "metadata": {},
   "outputs": [
    {
     "name": "stdout",
     "output_type": "stream",
     "text": [
      "{'s': 0, 't': 8, 'x': 9, 'y': 5, 'z': 7}\n",
      "{'s': ' ', 't': 'y', 'x': 't', 'y': 's', 'z': 'y'}\n"
     ]
    }
   ],
   "source": [
    "s = 's'\n",
    "cost, prev = DJ(G,s)\n",
    "print(cost)\n",
    "print(prev)"
   ]
  },
  {
   "cell_type": "code",
   "execution_count": 13,
   "id": "335566c8",
   "metadata": {},
   "outputs": [
    {
     "name": "stdout",
     "output_type": "stream",
     "text": [
      "Shortest path from s to s is s\n",
      "Cost is 0\n",
      "Shortest path from s to t is s->y->t\n",
      "Cost is 8\n",
      "Shortest path from s to x is s->y->t->x\n",
      "Cost is 9\n",
      "Shortest path from s to y is s->y\n",
      "Cost is 5\n",
      "Shortest path from s to z is s->y->z\n",
      "Cost is 7\n"
     ]
    }
   ],
   "source": [
    "def RECONSTRUCT_PATH(graph, vertex, path):\n",
    "    path = vertex\n",
    "    while prev[vertex] != \" \":\n",
    "        path = prev[vertex] + '->' + path\n",
    "        vertex = prev [vertex]\n",
    "    return path\n",
    "\n",
    "s = 's'\n",
    "cost, prev = DJ(G,s)\n",
    "for vertex in G.keys():\n",
    "    print(f'Shortest path from {s} to {vertex} is {RECONSTRUCT_PATH(G, vertex, prev)}')\n",
    "    print(f'Cost is {cost[vertex]}')\n",
    "\n"
   ]
  },
  {
   "cell_type": "code",
   "execution_count": null,
   "id": "24571068",
   "metadata": {},
   "outputs": [],
   "source": []
  }
 ],
 "metadata": {
  "kernelspec": {
   "display_name": "myenv",
   "language": "python",
   "name": "python3"
  },
  "language_info": {
   "codemirror_mode": {
    "name": "ipython",
    "version": 3
   },
   "file_extension": ".py",
   "mimetype": "text/x-python",
   "name": "python",
   "nbconvert_exporter": "python",
   "pygments_lexer": "ipython3",
   "version": "3.13.7"
  }
 },
 "nbformat": 4,
 "nbformat_minor": 5
}
