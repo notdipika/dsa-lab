{
 "cells": [
  {
   "cell_type": "code",
   "execution_count": null,
   "id": "931c06f8",
   "metadata": {
    "vscode": {
     "languageId": "plaintext"
    }
   },
   "outputs": [],
   "source": [
    "import math\n",
    "G = [\n",
    "    [0, 10, math.inf, 5, math.inf],\n",
    "    [math.inf, 0, 1, 2, math.inf],\n",
    "    [math.inf, math.inf, 0, maath.inf, 4],\n",
    "    [math.inf, 3, 9, 0, 2],\n",
    "    [7, math.inf, 6, math.inf, 0]\n",
    "]"
   ]
  },
  {
   "cell_type": "code",
   "execution_count": null,
   "id": "03f921d6",
   "metadata": {
    "vscode": {
     "languageId": "plaintext"
    }
   },
   "outputs": [],
   "source": [
    "def FW(W):\n",
    "    n = len(W)\n",
    "    D = dict()\n",
    "    D[0] = W\n",
    "    for k in range(n):\n",
    "        D[k+1] = D[k]\n",
    "        for i in range(n):\n",
    "            for j in range(n):\n",
    "                D[k+1][i][j] = min(\n",
    "                    D[k][i][j], D[k][i][k], D[k][k][j]\n",
    "                )\n",
    "    print(D[k+1])\n",
    "\n",
    "FW(W)"
   ]
  }
 ],
 "metadata": {
  "language_info": {
   "name": "python"
  }
 },
 "nbformat": 4,
 "nbformat_minor": 5
}
