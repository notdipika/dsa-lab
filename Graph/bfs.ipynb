{
 "cells": [
  {
   "cell_type": "code",
   "execution_count": 1,
   "id": "da6d7832",
   "metadata": {},
   "outputs": [],
   "source": [
    "from collections import deque\n",
    "\n",
    "graph = {\n",
    "    'A': ['B', 'C'],\n",
    "    'B': ['A', 'C'],\n",
    "    'C': ['A', 'B', 'D'],\n",
    "    'D': ['C', 'E', 'F'],\n",
    "    'E': ['D', 'F'],\n",
    "    'F': ['D', 'E']\n",
    "}"
   ]
  },
  {
   "cell_type": "code",
   "execution_count": 2,
   "id": "5af862c6",
   "metadata": {},
   "outputs": [
    {
     "name": "stdout",
     "output_type": "stream",
     "text": [
      "The order of traversal is:\n",
      "A -> B -> C -> D -> E -> F\n"
     ]
    }
   ],
   "source": [
    "def BFS(graph, start):\n",
    "    visited = []\n",
    "    queue = deque()\n",
    "\n",
    "    queue.append(start)\n",
    "    while not len(queue) == 0:\n",
    "        temp = queue.popleft()\n",
    "        visited.append(temp)\n",
    "\n",
    "        for node in graph[temp]:\n",
    "            if (not node in queue) and (not node in visited):\n",
    "                queue.append(node)\n",
    "        \n",
    "    print(\"The order of traversal is:\")\n",
    "    traversal_order = start\n",
    "    for item in visited[1:]:\n",
    "        traversal_order += \" -> \" + item\n",
    "    \n",
    "    print(traversal_order)\n",
    "\n",
    "BFS(graph, 'A')"
   ]
  },
  {
   "cell_type": "code",
   "execution_count": null,
   "id": "a28b41b6",
   "metadata": {},
   "outputs": [],
   "source": []
  }
 ],
 "metadata": {
  "kernelspec": {
   "display_name": "myenv",
   "language": "python",
   "name": "python3"
  },
  "language_info": {
   "codemirror_mode": {
    "name": "ipython",
    "version": 3
   },
   "file_extension": ".py",
   "mimetype": "text/x-python",
   "name": "python",
   "nbconvert_exporter": "python",
   "pygments_lexer": "ipython3",
   "version": "3.13.7"
  }
 },
 "nbformat": 4,
 "nbformat_minor": 5
}
